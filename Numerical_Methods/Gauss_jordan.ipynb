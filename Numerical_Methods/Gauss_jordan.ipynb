{
 "cells": [
  {
   "cell_type": "code",
   "execution_count": 3,
   "id": "b35b8eeb-b751-4c4d-b82c-a0f8c143d728",
   "metadata": {},
   "outputs": [
    {
     "name": "stdout",
     "output_type": "stream",
     "text": [
      "2.0\n",
      "3.0\n",
      "-1.0\n"
     ]
    }
   ],
   "source": [
    "N = 3\n",
    "arr = [\n",
    "    [2, 1, -1, 8],\n",
    "    [-3, -1, 2, -11],\n",
    "    [-2, 1, 2, -3]\n",
    "    ]\n",
    "\n",
    "def gauss_jordan(arr, N):\n",
    "    for i in range(N):\n",
    "        for j in range(N):\n",
    "            if i != j:\n",
    "                p = arr[j][i] / arr[i][i]\n",
    "                for k in range(N+1):\n",
    "                    arr[j][k] -= arr[i][k] * p\n",
    "\n",
    "    for i in range(N):\n",
    "        print(arr[i][3] / arr[i][i])\n",
    "\n",
    "gauss_jordan(arr, N)\n"
   ]
  },
  {
   "cell_type": "code",
   "execution_count": null,
   "id": "046928b2-dc19-43da-b3d2-aabf4c3798cf",
   "metadata": {},
   "outputs": [],
   "source": []
  }
 ],
 "metadata": {
  "kernelspec": {
   "display_name": "Python 3",
   "language": "python",
   "name": "python3"
  },
  "language_info": {
   "codemirror_mode": {
    "name": "ipython",
    "version": 3
   },
   "file_extension": ".py",
   "mimetype": "text/x-python",
   "name": "python",
   "nbconvert_exporter": "python",
   "pygments_lexer": "ipython3",
   "version": "3.13.5"
  }
 },
 "nbformat": 4,
 "nbformat_minor": 5
}
